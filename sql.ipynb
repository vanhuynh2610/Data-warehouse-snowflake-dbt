{
 "cells": [
  {
   "cell_type": "code",
   "execution_count": 6,
   "id": "c0e486ba",
   "metadata": {},
   "outputs": [
    {
     "name": "stdout",
     "output_type": "stream",
     "text": [
      "['SQL Server', 'SQL Server Native Client RDA 11.0', 'Microsoft Access Driver (*.mdb, *.accdb)', 'Microsoft Excel Driver (*.xls, *.xlsx, *.xlsm, *.xlsb)', 'Microsoft Access Text Driver (*.txt, *.csv)', 'Microsoft Access dBASE Driver (*.dbf, *.ndx, *.mdx)', 'ODBC Driver 17 for SQL Server']\n"
     ]
    }
   ],
   "source": [
    "import pyodbc\n",
    "print(pyodbc.drivers())"
   ]
  },
  {
   "cell_type": "code",
   "execution_count": 5,
   "id": "33319392",
   "metadata": {},
   "outputs": [
    {
     "name": "stdout",
     "output_type": "stream",
     "text": [
      "Collecting pyodbc\n",
      "  Downloading pyodbc-5.2.0-cp310-cp310-win_amd64.whl.metadata (2.8 kB)\n",
      "Downloading pyodbc-5.2.0-cp310-cp310-win_amd64.whl (68 kB)\n",
      "Installing collected packages: pyodbc\n",
      "Successfully installed pyodbc-5.2.0\n",
      "Note: you may need to restart the kernel to use updated packages.\n"
     ]
    }
   ],
   "source": [
    "pip install pyodbc"
   ]
  },
  {
   "cell_type": "code",
   "execution_count": 21,
   "id": "2aa25e18",
   "metadata": {},
   "outputs": [
    {
     "name": "stdout",
     "output_type": "stream",
     "text": [
      "(1,)\n",
      "(2,)\n",
      "(3,)\n",
      "(4,)\n",
      "(5,)\n"
     ]
    }
   ],
   "source": [
    "import pyodbc\n",
    "\n",
    "# Chuỗi kết nối\n",
    "conn = pyodbc.connect(\n",
    "    'DRIVER={ODBC Driver 17 for SQL Server};'\n",
    "    'SERVER=localhost;'\n",
    "    'PORT=1433;'\n",
    "    'DATABASE=AdventureWorks2022;'\n",
    "    'UID=thanhvan;'\n",
    "    'PWD=thanhvan12'\n",
    ")\n",
    "\n",
    "cursor = conn.cursor()\n",
    "\n",
    "# Thực thi truy vấn\n",
    "cursor.execute(\"SELECT TOP 5 AddressID FROM Person.Address Order by AddressID\")\n",
    "\n",
    "# Lấy dữ liệu\n",
    "rows = cursor.fetchall()\n",
    "for row in rows:\n",
    "    print(row)\n",
    "\n",
    "# Đóng kết nối\n",
    "conn.close()"
   ]
  },
  {
   "cell_type": "code",
   "execution_count": 3,
   "id": "95f6bf65",
   "metadata": {},
   "outputs": [
    {
     "ename": "OperationalError",
     "evalue": "(20009, b'DB-Lib error message 20009, severity 9:\\nUnable to connect: Adaptive Server is unavailable or does not exist (localhost)\\nNet-Lib error during Unknown error (10061)\\nDB-Lib error message 20009, severity 9:\\nUnable to connect: Adaptive Server is unavailable or does not exist (localhost)\\nNet-Lib error during Unknown error (10061)\\n')",
     "output_type": "error",
     "traceback": [
      "\u001b[1;31m---------------------------------------------------------------------------\u001b[0m",
      "\u001b[1;31mMSSQLDatabaseException\u001b[0m                    Traceback (most recent call last)",
      "File \u001b[1;32msrc\\\\pymssql\\\\_pymssql.pyx:650\u001b[0m, in \u001b[0;36mpymssql._pymssql.connect\u001b[1;34m()\u001b[0m\n",
      "File \u001b[1;32msrc\\\\pymssql\\\\_mssql.pyx:2158\u001b[0m, in \u001b[0;36mpymssql._mssql.connect\u001b[1;34m()\u001b[0m\n",
      "File \u001b[1;32msrc\\\\pymssql\\\\_mssql.pyx:712\u001b[0m, in \u001b[0;36mpymssql._mssql.MSSQLConnection.__init__\u001b[1;34m()\u001b[0m\n",
      "File \u001b[1;32msrc\\\\pymssql\\\\_mssql.pyx:1884\u001b[0m, in \u001b[0;36mpymssql._mssql.maybe_raise_MSSQLDatabaseException\u001b[1;34m()\u001b[0m\n",
      "File \u001b[1;32msrc\\\\pymssql\\\\_mssql.pyx:1901\u001b[0m, in \u001b[0;36mpymssql._mssql.raise_MSSQLDatabaseException\u001b[1;34m()\u001b[0m\n",
      "\u001b[1;31mMSSQLDatabaseException\u001b[0m: (20009, b'DB-Lib error message 20009, severity 9:\\nUnable to connect: Adaptive Server is unavailable or does not exist (localhost)\\nNet-Lib error during Unknown error (10061)\\nDB-Lib error message 20009, severity 9:\\nUnable to connect: Adaptive Server is unavailable or does not exist (localhost)\\nNet-Lib error during Unknown error (10061)\\n')",
      "\nDuring handling of the above exception, another exception occurred:\n",
      "\u001b[1;31mOperationalError\u001b[0m                          Traceback (most recent call last)",
      "Cell \u001b[1;32mIn[3], line 4\u001b[0m\n\u001b[0;32m      1\u001b[0m \u001b[38;5;28;01mimport\u001b[39;00m\u001b[38;5;250m \u001b[39m\u001b[38;5;21;01mpymssql\u001b[39;00m\n\u001b[0;32m      3\u001b[0m \u001b[38;5;66;03m# Kết nối\u001b[39;00m\n\u001b[1;32m----> 4\u001b[0m conn \u001b[38;5;241m=\u001b[39m \u001b[43mpymssql\u001b[49m\u001b[38;5;241;43m.\u001b[39;49m\u001b[43mconnect\u001b[49m\u001b[43m(\u001b[49m\n\u001b[0;32m      5\u001b[0m \u001b[43m    \u001b[49m\u001b[43mserver\u001b[49m\u001b[38;5;241;43m=\u001b[39;49m\u001b[38;5;124;43m'\u001b[39;49m\u001b[38;5;124;43mlocalhost\u001b[39;49m\u001b[38;5;124;43m'\u001b[39;49m\u001b[43m,\u001b[49m\n\u001b[0;32m      6\u001b[0m \u001b[43m    \u001b[49m\u001b[43muser\u001b[49m\u001b[38;5;241;43m=\u001b[39;49m\u001b[38;5;124;43m'\u001b[39;49m\u001b[38;5;124;43mthanhvan\u001b[39;49m\u001b[38;5;124;43m'\u001b[39;49m\u001b[43m,\u001b[49m\n\u001b[0;32m      7\u001b[0m \u001b[43m    \u001b[49m\u001b[43mpassword\u001b[49m\u001b[38;5;241;43m=\u001b[39;49m\u001b[38;5;124;43m'\u001b[39;49m\u001b[38;5;124;43mthanhvan12\u001b[39;49m\u001b[38;5;124;43m'\u001b[39;49m\u001b[43m,\u001b[49m\n\u001b[0;32m      8\u001b[0m \u001b[43m    \u001b[49m\u001b[43mdatabase\u001b[49m\u001b[38;5;241;43m=\u001b[39;49m\u001b[38;5;124;43m'\u001b[39;49m\u001b[38;5;124;43mAdventureWorks2022\u001b[39;49m\u001b[38;5;124;43m'\u001b[39;49m\n\u001b[0;32m      9\u001b[0m \u001b[43m)\u001b[49m\n\u001b[0;32m     11\u001b[0m cursor \u001b[38;5;241m=\u001b[39m conn\u001b[38;5;241m.\u001b[39mcursor()\n\u001b[0;32m     13\u001b[0m \u001b[38;5;66;03m# Truy vấn\u001b[39;00m\n",
      "File \u001b[1;32msrc\\\\pymssql\\\\_pymssql.pyx:659\u001b[0m, in \u001b[0;36mpymssql._pymssql.connect\u001b[1;34m()\u001b[0m\n",
      "\u001b[1;31mOperationalError\u001b[0m: (20009, b'DB-Lib error message 20009, severity 9:\\nUnable to connect: Adaptive Server is unavailable or does not exist (localhost)\\nNet-Lib error during Unknown error (10061)\\nDB-Lib error message 20009, severity 9:\\nUnable to connect: Adaptive Server is unavailable or does not exist (localhost)\\nNet-Lib error during Unknown error (10061)\\n')"
     ]
    }
   ],
   "source": [
    "import pymssql\n",
    "\n",
    "# Kết nối\n",
    "conn = pymssql.connect(\n",
    "    server='localhost',\n",
    "    user='thanhvan',\n",
    "    password='thanhvan12',\n",
    "    database='AdventureWorks2022'\n",
    ")\n",
    "\n",
    "cursor = conn.cursor()\n",
    "\n",
    "# Truy vấn\n",
    "cursor.execute('SELECT * FROM dbo.Person')\n",
    "\n",
    "# Lấy dữ liệu\n",
    "for row in cursor:\n",
    "    print(row)\n",
    "\n",
    "# Đóng kết nối\n",
    "conn.close()"
   ]
  },
  {
   "cell_type": "code",
   "execution_count": 1,
   "id": "f994ab9c",
   "metadata": {},
   "outputs": [
    {
     "name": "stdout",
     "output_type": "stream",
     "text": [
      "Collecting pymssql\n",
      "  Downloading pymssql-2.3.4-cp310-cp310-win_amd64.whl.metadata (4.6 kB)\n",
      "Downloading pymssql-2.3.4-cp310-cp310-win_amd64.whl (2.0 MB)\n",
      "   ---------------------------------------- 0.0/2.0 MB ? eta -:--:--\n",
      "   ---------------------------------------- 0.0/2.0 MB ? eta -:--:--\n",
      "   ----- ---------------------------------- 0.3/2.0 MB ? eta -:--:--\n",
      "   ----- ---------------------------------- 0.3/2.0 MB ? eta -:--:--\n",
      "   ---------- ----------------------------- 0.5/2.0 MB 578.7 kB/s eta 0:00:03\n",
      "   --------------- ------------------------ 0.8/2.0 MB 819.2 kB/s eta 0:00:02\n",
      "   ------------------------- -------------- 1.3/2.0 MB 1.1 MB/s eta 0:00:01\n",
      "   ------------------------------------ --- 1.8/2.0 MB 1.3 MB/s eta 0:00:01\n",
      "   ---------------------------------------- 2.0/2.0 MB 1.4 MB/s eta 0:00:00\n",
      "Installing collected packages: pymssql\n",
      "Successfully installed pymssql-2.3.4\n",
      "Note: you may need to restart the kernel to use updated packages.\n"
     ]
    }
   ],
   "source": [
    "pip install pymssql"
   ]
  }
 ],
 "metadata": {
  "kernelspec": {
   "display_name": ".venv",
   "language": "python",
   "name": "python3"
  },
  "language_info": {
   "codemirror_mode": {
    "name": "ipython",
    "version": 3
   },
   "file_extension": ".py",
   "mimetype": "text/x-python",
   "name": "python",
   "nbconvert_exporter": "python",
   "pygments_lexer": "ipython3",
   "version": "3.10.11"
  }
 },
 "nbformat": 4,
 "nbformat_minor": 5
}
